# Liverpool Crime Analysis (2022–2025)

import pandas as pd
import matplotlib.pyplot as plt
import seaborn as sns

# تحميل البيانات (مثال: ضيف ملفات CSV داخل مجلد data/)
df = pd.read_csv("data/2022-07-merseyside-street.csv")

# نظرة عامة
print(df.head())
print(df.info())

# عدد الجرائم حسب النوع
crime_counts = df['Crime type'].value_counts()

plt.figure(figsize=(10,5))
sns.barplot(x=crime_counts.index, y=crime_counts.values)
plt.xticks(rotation=45, ha="right")
plt.title("Top Crime Types in Liverpool (July 2022)")
plt.show()
